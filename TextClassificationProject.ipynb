{
 "cells": [
  {
   "cell_type": "code",
   "execution_count": 1,
   "metadata": {
    "collapsed": true
   },
   "outputs": [],
   "source": [
    "from sklearn.datasets import fetch_20newsgroups as newsgrp #load the dataset\n",
    "from sklearn.feature_extraction.text import CountVectorizer\n",
    "from sklearn.feature_extraction.text import TfidfTransformer\n",
    "from sklearn.naive_bayes import MultinomialNB\n",
    "from sklearn.model_selection import GridSearchCV\n",
    "from sklearn.pipeline import Pipeline\n",
    "import numpy as np"
   ]
  },
  {
   "cell_type": "code",
   "execution_count": 2,
   "metadata": {
    "collapsed": true
   },
   "outputs": [],
   "source": [
    "newsgrp_train = newsgrp(subset='train', shuffle=True)"
   ]
  },
  {
   "cell_type": "code",
   "execution_count": 3,
   "metadata": {
    "collapsed": true
   },
   "outputs": [],
   "source": [
    "text_clf = Pipeline([('vect', CountVectorizer()),('tfidf', TfidfTransformer()),('clf', MultinomialNB()),])\n",
    "text_clf = text_clf.fit(newsgrp_train.data, newsgrp_train.target)"
   ]
  },
  {
   "cell_type": "code",
   "execution_count": 4,
   "metadata": {
    "collapsed": true
   },
   "outputs": [],
   "source": [
    "params = {'vect__ngram_range': [(1, 1), (1, 2)], 'tfidf__use_idf': (True, False), 'clf__alpha': (1e-2, 1e-3),}\n",
    "gs_clf = GridSearchCV(text_clf, params, n_jobs=-1)\n",
    "gs_clf = gs_clf.fit(newsgrp_train.data, newsgrp_train.target)\n",
    "#gs_clf.best_score_\n",
    "#gs_clf.best_params_"
   ]
  },
  {
   "cell_type": "code",
   "execution_count": 5,
   "metadata": {
    "collapsed": true
   },
   "outputs": [],
   "source": [
    "newsgrp_test = newsgrp(subset='test', shuffle=True)\n",
    "predicted = gs_clf.predict(newsgrp_test.data)"
   ]
  },
  {
   "cell_type": "code",
   "execution_count": 6,
   "metadata": {},
   "outputs": [
    {
     "name": "stdout",
     "output_type": "stream",
     "text": [
      "Training data shape:  (11314,) \n",
      "\n",
      "\n",
      "Categories:  ['alt.atheism', 'comp.graphics', 'comp.os.ms-windows.misc', 'comp.sys.ibm.pc.hardware', 'comp.sys.mac.hardware', 'comp.windows.x', 'misc.forsale', 'rec.autos', 'rec.motorcycles', 'rec.sport.baseball', 'rec.sport.hockey', 'sci.crypt', 'sci.electronics', 'sci.med', 'sci.space', 'soc.religion.christian', 'talk.politics.guns', 'talk.politics.mideast', 'talk.politics.misc', 'talk.religion.misc'] \n",
      "\n",
      "\n",
      "Test data shape:  (7532,) \n",
      "\n",
      "\n",
      "Accuracy of the classifier:  0.834439723845 \n",
      "\n",
      "\n",
      "\n",
      "\n",
      "How many text passages? 3\n",
      "\n",
      "\n",
      "Enter text: \n",
      "On top of the numerous experiments that astronauts need to set up, conduct and monitor every day on the space station, they have much more cargo to unpack, haul to its correct location and sort. Room is precious aboard the station, so this is a time-consuming and important process. Luckily, \"There's always goodies on board,\" Kirk Shireman, NASA's space station program manager, said to reporters after Cygnus launched into orbit.  After seven years of war, Syrian government forces have taken full control of the area around their capital, Damascus, freeing up an overstretched military to move against the country’s few remaining rebel pockets.\n",
      "\n",
      "\n",
      "Enter text: \n",
      "After seven years of war, Syrian government forces have taken full control of the area around their capital, Damascus, freeing up an overstretched military to move against the country’s few remaining rebel pockets.\n",
      "\n",
      "\n",
      "Enter text: \n",
      "Electric motorcycle manufacturer Zero Motorcycles will take its range of electric motorcycles on a tour of the UK, giving riders an opportunity to try out a Zero motorcycle. From June to September, Zero motorcycles will attend a total of eight venues, starting in North Wales on June 17 and ending in Surrey on September 16. The idea behind the roadshow is to introduce Zero's range of electric motorcycles to a wider audience, giving them the chance to try out a Zero from the entire product range - from commuters, dual sport bikes, road bikes and touring bikes.\n",
      "\n",
      "\n",
      "\n",
      "'On top of the numerous experiments that astronauts need to set up, conduct and monitor every day on the space station, they have much more cargo to unpack, haul to its correct location and sort. Room is precious aboard the station, so this is a time-consuming and important process. Luckily, \"There\\'s always goodies on board,\" Kirk Shireman, NASA\\'s space station program manager, said to reporters after Cygnus launched into orbit.  After seven years of war, Syrian government forces have taken full control of the area around their capital, Damascus, freeing up an overstretched military to move against the country’s few remaining rebel pockets.' => sci.space\n",
      "\n",
      "\n",
      "\n",
      "'After seven years of war, Syrian government forces have taken full control of the area around their capital, Damascus, freeing up an overstretched military to move against the country’s few remaining rebel pockets.' => talk.politics.mideast\n",
      "\n",
      "\n",
      "\n",
      "\"Electric motorcycle manufacturer Zero Motorcycles will take its range of electric motorcycles on a tour of the UK, giving riders an opportunity to try out a Zero motorcycle. From June to September, Zero motorcycles will attend a total of eight venues, starting in North Wales on June 17 and ending in Surrey on September 16. The idea behind the roadshow is to introduce Zero's range of electric motorcycles to a wider audience, giving them the chance to try out a Zero from the entire product range - from commuters, dual sport bikes, road bikes and touring bikes.\" => rec.motorcycles\n",
      "\n",
      "\n",
      "\n"
     ]
    }
   ],
   "source": [
    "print(\"Training data shape: \", newsgrp_train.filenames.shape, \"\\n\\n\")\n",
    "print(\"Categories: \", newsgrp_train.target_names, \"\\n\\n\")\n",
    "print(\"Test data shape: \", newsgrp_test.filenames.shape, \"\\n\\n\")\n",
    "print(\"Accuracy of the classifier: \", np.mean(predicted == newsgrp_test.target), \"\\n\\n\")\n",
    "\n",
    "n = int(input(\"\\n\\nHow many text passages? \"))\n",
    "\n",
    "doc = []\n",
    "while(n>0):\n",
    "    str = input(\"\\n\\nEnter text: \\n\")\n",
    "    doc.append(str)\n",
    "    predicted = gs_clf.predict(doc)\n",
    "    n=n-1\n",
    "    \n",
    "print(\"\\n\\n\")\n",
    "for docx, category in zip(doc, predicted):\n",
    "    print(\"%r => %s\" % (docx, newsgrp_train.target_names[category]))\n",
    "    print(\"\\n\\n\")"
   ]
  },
  {
   "cell_type": "code",
   "execution_count": null,
   "metadata": {
    "collapsed": true
   },
   "outputs": [],
   "source": []
  }
 ],
 "metadata": {
  "kernelspec": {
   "display_name": "Python 3",
   "language": "python",
   "name": "python3"
  },
  "language_info": {
   "codemirror_mode": {
    "name": "ipython",
    "version": 3
   },
   "file_extension": ".py",
   "mimetype": "text/x-python",
   "name": "python",
   "nbconvert_exporter": "python",
   "pygments_lexer": "ipython3",
   "version": "3.6.1"
  }
 },
 "nbformat": 4,
 "nbformat_minor": 2
}
